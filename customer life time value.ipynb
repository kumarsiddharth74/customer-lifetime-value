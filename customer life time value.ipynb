{
 "cells": [
  {
   "cell_type": "code",
   "execution_count": 44,
   "metadata": {},
   "outputs": [],
   "source": [
    "import pandas as pd \n",
    "import numpy as np\n",
    "from matplotlib import pyplot as plt\n",
    "import re\n",
    "import seaborn as sns\n",
    "from lifetimes.plotting import *\n",
    "from lifetimes.utils import *\n",
    "pd.set_option('display.max_columns', None)"
   ]
  },
  {
   "cell_type": "code",
   "execution_count": 16,
   "metadata": {},
   "outputs": [],
   "source": [
    "df1=pd.read_csv('olist_customers_dataset.csv')\n",
    "df2=pd.read_csv('olist_order_payments_dataset.csv')\n",
    "df3=pd.read_csv('olist_orders_dataset.csv')"
   ]
  },
  {
   "cell_type": "markdown",
   "metadata": {},
   "source": [
    "# column name in 3 dataframe"
   ]
  },
  {
   "cell_type": "code",
   "execution_count": 17,
   "metadata": {},
   "outputs": [
    {
     "data": {
      "text/plain": [
       "Index(['customer_id', 'customer_unique_id', 'customer_zip_code_prefix',\n",
       "       'customer_city', 'customer_state'],\n",
       "      dtype='object')"
      ]
     },
     "execution_count": 17,
     "metadata": {},
     "output_type": "execute_result"
    }
   ],
   "source": [
    "df1.columns"
   ]
  },
  {
   "cell_type": "code",
   "execution_count": 18,
   "metadata": {},
   "outputs": [
    {
     "data": {
      "text/plain": [
       "Index(['order_id', 'payment_sequential', 'payment_type',\n",
       "       'payment_installments', 'payment_value'],\n",
       "      dtype='object')"
      ]
     },
     "execution_count": 18,
     "metadata": {},
     "output_type": "execute_result"
    }
   ],
   "source": [
    "df2.columns"
   ]
  },
  {
   "cell_type": "code",
   "execution_count": 19,
   "metadata": {},
   "outputs": [
    {
     "data": {
      "text/plain": [
       "Index(['order_id', 'customer_id', 'order_status', 'order_purchase_timestamp',\n",
       "       'order_approved_at', 'order_delivered_carrier_date',\n",
       "       'order_delivered_customer_date', 'order_estimated_delivery_date'],\n",
       "      dtype='object')"
      ]
     },
     "execution_count": 19,
     "metadata": {},
     "output_type": "execute_result"
    }
   ],
   "source": [
    "df3.columns"
   ]
  },
  {
   "cell_type": "markdown",
   "metadata": {},
   "source": [
    "# inner join on 3 dataframe to make one data frame"
   ]
  },
  {
   "cell_type": "code",
   "execution_count": 20,
   "metadata": {},
   "outputs": [],
   "source": [
    "df4= pd.merge(df2, df3, on='order_id', how='inner')"
   ]
  },
  {
   "cell_type": "code",
   "execution_count": 21,
   "metadata": {},
   "outputs": [],
   "source": [
    "df= pd.merge(df1, df4, on='customer_id', how='inner')"
   ]
  },
  {
   "cell_type": "code",
   "execution_count": 22,
   "metadata": {},
   "outputs": [
    {
     "data": {
      "text/html": [
       "<div>\n",
       "<style scoped>\n",
       "    .dataframe tbody tr th:only-of-type {\n",
       "        vertical-align: middle;\n",
       "    }\n",
       "\n",
       "    .dataframe tbody tr th {\n",
       "        vertical-align: top;\n",
       "    }\n",
       "\n",
       "    .dataframe thead th {\n",
       "        text-align: right;\n",
       "    }\n",
       "</style>\n",
       "<table border=\"1\" class=\"dataframe\">\n",
       "  <thead>\n",
       "    <tr style=\"text-align: right;\">\n",
       "      <th></th>\n",
       "      <th>customer_id</th>\n",
       "      <th>customer_unique_id</th>\n",
       "      <th>customer_zip_code_prefix</th>\n",
       "      <th>customer_city</th>\n",
       "      <th>customer_state</th>\n",
       "      <th>order_id</th>\n",
       "      <th>payment_sequential</th>\n",
       "      <th>payment_type</th>\n",
       "      <th>payment_installments</th>\n",
       "      <th>payment_value</th>\n",
       "      <th>order_status</th>\n",
       "      <th>order_purchase_timestamp</th>\n",
       "      <th>order_approved_at</th>\n",
       "      <th>order_delivered_carrier_date</th>\n",
       "      <th>order_delivered_customer_date</th>\n",
       "      <th>order_estimated_delivery_date</th>\n",
       "    </tr>\n",
       "  </thead>\n",
       "  <tbody>\n",
       "    <tr>\n",
       "      <th>0</th>\n",
       "      <td>06b8999e2fba1a1fbc88172c00ba8bc7</td>\n",
       "      <td>861eff4711a542e4b93843c6dd7febb0</td>\n",
       "      <td>14409</td>\n",
       "      <td>franca</td>\n",
       "      <td>SP</td>\n",
       "      <td>00e7ee1b050b8499577073aeb2a297a1</td>\n",
       "      <td>1</td>\n",
       "      <td>credit_card</td>\n",
       "      <td>2</td>\n",
       "      <td>146.87</td>\n",
       "      <td>delivered</td>\n",
       "      <td>2017-05-16 15:05:35</td>\n",
       "      <td>2017-05-16 15:22:12</td>\n",
       "      <td>2017-05-23 10:47:57</td>\n",
       "      <td>2017-05-25 10:35:35</td>\n",
       "      <td>2017-06-05 00:00:00</td>\n",
       "    </tr>\n",
       "    <tr>\n",
       "      <th>1</th>\n",
       "      <td>18955e83d337fd6b2def6b18a428ac77</td>\n",
       "      <td>290c77bc529b7ac935b93aa66c333dc3</td>\n",
       "      <td>9790</td>\n",
       "      <td>sao bernardo do campo</td>\n",
       "      <td>SP</td>\n",
       "      <td>29150127e6685892b6eab3eec79f59c7</td>\n",
       "      <td>1</td>\n",
       "      <td>credit_card</td>\n",
       "      <td>8</td>\n",
       "      <td>335.48</td>\n",
       "      <td>delivered</td>\n",
       "      <td>2018-01-12 20:48:24</td>\n",
       "      <td>2018-01-12 20:58:32</td>\n",
       "      <td>2018-01-15 17:14:59</td>\n",
       "      <td>2018-01-29 12:41:19</td>\n",
       "      <td>2018-02-06 00:00:00</td>\n",
       "    </tr>\n",
       "    <tr>\n",
       "      <th>2</th>\n",
       "      <td>4e7b3e00288586ebd08712fdd0374a03</td>\n",
       "      <td>060e732b5b29e8181a18229c7b0b2b5e</td>\n",
       "      <td>1151</td>\n",
       "      <td>sao paulo</td>\n",
       "      <td>SP</td>\n",
       "      <td>b2059ed67ce144a36e2aa97d2c9e9ad2</td>\n",
       "      <td>1</td>\n",
       "      <td>credit_card</td>\n",
       "      <td>7</td>\n",
       "      <td>157.73</td>\n",
       "      <td>delivered</td>\n",
       "      <td>2018-05-19 16:07:45</td>\n",
       "      <td>2018-05-20 16:19:10</td>\n",
       "      <td>2018-06-11 14:31:00</td>\n",
       "      <td>2018-06-14 17:58:51</td>\n",
       "      <td>2018-06-13 00:00:00</td>\n",
       "    </tr>\n",
       "    <tr>\n",
       "      <th>3</th>\n",
       "      <td>b2b6027bc5c5109e529d4dc6358b12c3</td>\n",
       "      <td>259dac757896d24d7702b9acbbff3f3c</td>\n",
       "      <td>8775</td>\n",
       "      <td>mogi das cruzes</td>\n",
       "      <td>SP</td>\n",
       "      <td>951670f92359f4fe4a63112aa7306eba</td>\n",
       "      <td>1</td>\n",
       "      <td>credit_card</td>\n",
       "      <td>1</td>\n",
       "      <td>173.30</td>\n",
       "      <td>delivered</td>\n",
       "      <td>2018-03-13 16:06:38</td>\n",
       "      <td>2018-03-13 17:29:19</td>\n",
       "      <td>2018-03-27 23:22:42</td>\n",
       "      <td>2018-03-28 16:04:25</td>\n",
       "      <td>2018-04-10 00:00:00</td>\n",
       "    </tr>\n",
       "    <tr>\n",
       "      <th>4</th>\n",
       "      <td>4f2d8ab171c80ec8364f7c12e35b23ad</td>\n",
       "      <td>345ecd01c38d18a9036ed96c73b8d066</td>\n",
       "      <td>13056</td>\n",
       "      <td>campinas</td>\n",
       "      <td>SP</td>\n",
       "      <td>6b7d50bd145f6fc7f33cebabd7e49d0f</td>\n",
       "      <td>1</td>\n",
       "      <td>credit_card</td>\n",
       "      <td>8</td>\n",
       "      <td>252.25</td>\n",
       "      <td>delivered</td>\n",
       "      <td>2018-07-29 09:51:30</td>\n",
       "      <td>2018-07-29 10:10:09</td>\n",
       "      <td>2018-07-30 15:16:00</td>\n",
       "      <td>2018-08-09 20:55:48</td>\n",
       "      <td>2018-08-15 00:00:00</td>\n",
       "    </tr>\n",
       "  </tbody>\n",
       "</table>\n",
       "</div>"
      ],
      "text/plain": [
       "                        customer_id                customer_unique_id  \\\n",
       "0  06b8999e2fba1a1fbc88172c00ba8bc7  861eff4711a542e4b93843c6dd7febb0   \n",
       "1  18955e83d337fd6b2def6b18a428ac77  290c77bc529b7ac935b93aa66c333dc3   \n",
       "2  4e7b3e00288586ebd08712fdd0374a03  060e732b5b29e8181a18229c7b0b2b5e   \n",
       "3  b2b6027bc5c5109e529d4dc6358b12c3  259dac757896d24d7702b9acbbff3f3c   \n",
       "4  4f2d8ab171c80ec8364f7c12e35b23ad  345ecd01c38d18a9036ed96c73b8d066   \n",
       "\n",
       "   customer_zip_code_prefix          customer_city customer_state  \\\n",
       "0                     14409                 franca             SP   \n",
       "1                      9790  sao bernardo do campo             SP   \n",
       "2                      1151              sao paulo             SP   \n",
       "3                      8775        mogi das cruzes             SP   \n",
       "4                     13056               campinas             SP   \n",
       "\n",
       "                           order_id  payment_sequential payment_type  \\\n",
       "0  00e7ee1b050b8499577073aeb2a297a1                   1  credit_card   \n",
       "1  29150127e6685892b6eab3eec79f59c7                   1  credit_card   \n",
       "2  b2059ed67ce144a36e2aa97d2c9e9ad2                   1  credit_card   \n",
       "3  951670f92359f4fe4a63112aa7306eba                   1  credit_card   \n",
       "4  6b7d50bd145f6fc7f33cebabd7e49d0f                   1  credit_card   \n",
       "\n",
       "   payment_installments  payment_value order_status order_purchase_timestamp  \\\n",
       "0                     2         146.87    delivered      2017-05-16 15:05:35   \n",
       "1                     8         335.48    delivered      2018-01-12 20:48:24   \n",
       "2                     7         157.73    delivered      2018-05-19 16:07:45   \n",
       "3                     1         173.30    delivered      2018-03-13 16:06:38   \n",
       "4                     8         252.25    delivered      2018-07-29 09:51:30   \n",
       "\n",
       "     order_approved_at order_delivered_carrier_date  \\\n",
       "0  2017-05-16 15:22:12          2017-05-23 10:47:57   \n",
       "1  2018-01-12 20:58:32          2018-01-15 17:14:59   \n",
       "2  2018-05-20 16:19:10          2018-06-11 14:31:00   \n",
       "3  2018-03-13 17:29:19          2018-03-27 23:22:42   \n",
       "4  2018-07-29 10:10:09          2018-07-30 15:16:00   \n",
       "\n",
       "  order_delivered_customer_date order_estimated_delivery_date  \n",
       "0           2017-05-25 10:35:35           2017-06-05 00:00:00  \n",
       "1           2018-01-29 12:41:19           2018-02-06 00:00:00  \n",
       "2           2018-06-14 17:58:51           2018-06-13 00:00:00  \n",
       "3           2018-03-28 16:04:25           2018-04-10 00:00:00  \n",
       "4           2018-08-09 20:55:48           2018-08-15 00:00:00  "
      ]
     },
     "execution_count": 22,
     "metadata": {},
     "output_type": "execute_result"
    }
   ],
   "source": [
    "df.head(5)"
   ]
  },
  {
   "cell_type": "code",
   "execution_count": 23,
   "metadata": {},
   "outputs": [
    {
     "data": {
      "text/plain": [
       "Index(['customer_id', 'customer_unique_id', 'customer_zip_code_prefix',\n",
       "       'customer_city', 'customer_state', 'order_id', 'payment_sequential',\n",
       "       'payment_type', 'payment_installments', 'payment_value', 'order_status',\n",
       "       'order_purchase_timestamp', 'order_approved_at',\n",
       "       'order_delivered_carrier_date', 'order_delivered_customer_date',\n",
       "       'order_estimated_delivery_date'],\n",
       "      dtype='object')"
      ]
     },
     "execution_count": 23,
     "metadata": {},
     "output_type": "execute_result"
    }
   ],
   "source": [
    "df.columns"
   ]
  },
  {
   "cell_type": "code",
   "execution_count": 24,
   "metadata": {},
   "outputs": [
    {
     "data": {
      "text/plain": [
       "96095"
      ]
     },
     "execution_count": 24,
     "metadata": {},
     "output_type": "execute_result"
    }
   ],
   "source": [
    "uni=df['customer_unique_id'].unique()\n",
    "len(uni)"
   ]
  },
  {
   "cell_type": "markdown",
   "metadata": {},
   "source": [
    "# let us drop columns that are not required.\n",
    "# we need only customer id, date and payemnt."
   ]
  },
  {
   "cell_type": "code",
   "execution_count": 25,
   "metadata": {},
   "outputs": [],
   "source": [
    "df.drop(['customer_zip_code_prefix','customer_id','customer_city', 'customer_state', 'order_id', 'payment_sequential',\n",
    "       'payment_type', 'order_status', 'order_approved_at','order_delivered_carrier_date', 'order_delivered_customer_date',\n",
    "       'order_estimated_delivery_date'],axis=1,inplace=True)"
   ]
  },
  {
   "cell_type": "code",
   "execution_count": 26,
   "metadata": {},
   "outputs": [
    {
     "data": {
      "text/html": [
       "<div>\n",
       "<style scoped>\n",
       "    .dataframe tbody tr th:only-of-type {\n",
       "        vertical-align: middle;\n",
       "    }\n",
       "\n",
       "    .dataframe tbody tr th {\n",
       "        vertical-align: top;\n",
       "    }\n",
       "\n",
       "    .dataframe thead th {\n",
       "        text-align: right;\n",
       "    }\n",
       "</style>\n",
       "<table border=\"1\" class=\"dataframe\">\n",
       "  <thead>\n",
       "    <tr style=\"text-align: right;\">\n",
       "      <th></th>\n",
       "      <th>customer_unique_id</th>\n",
       "      <th>payment_installments</th>\n",
       "      <th>payment_value</th>\n",
       "      <th>order_purchase_timestamp</th>\n",
       "    </tr>\n",
       "  </thead>\n",
       "  <tbody>\n",
       "    <tr>\n",
       "      <th>0</th>\n",
       "      <td>861eff4711a542e4b93843c6dd7febb0</td>\n",
       "      <td>2</td>\n",
       "      <td>146.87</td>\n",
       "      <td>2017-05-16 15:05:35</td>\n",
       "    </tr>\n",
       "    <tr>\n",
       "      <th>1</th>\n",
       "      <td>290c77bc529b7ac935b93aa66c333dc3</td>\n",
       "      <td>8</td>\n",
       "      <td>335.48</td>\n",
       "      <td>2018-01-12 20:48:24</td>\n",
       "    </tr>\n",
       "    <tr>\n",
       "      <th>2</th>\n",
       "      <td>060e732b5b29e8181a18229c7b0b2b5e</td>\n",
       "      <td>7</td>\n",
       "      <td>157.73</td>\n",
       "      <td>2018-05-19 16:07:45</td>\n",
       "    </tr>\n",
       "    <tr>\n",
       "      <th>3</th>\n",
       "      <td>259dac757896d24d7702b9acbbff3f3c</td>\n",
       "      <td>1</td>\n",
       "      <td>173.30</td>\n",
       "      <td>2018-03-13 16:06:38</td>\n",
       "    </tr>\n",
       "    <tr>\n",
       "      <th>4</th>\n",
       "      <td>345ecd01c38d18a9036ed96c73b8d066</td>\n",
       "      <td>8</td>\n",
       "      <td>252.25</td>\n",
       "      <td>2018-07-29 09:51:30</td>\n",
       "    </tr>\n",
       "    <tr>\n",
       "      <th>...</th>\n",
       "      <td>...</td>\n",
       "      <td>...</td>\n",
       "      <td>...</td>\n",
       "      <td>...</td>\n",
       "    </tr>\n",
       "    <tr>\n",
       "      <th>103881</th>\n",
       "      <td>1a29b476fee25c95fbafc67c5ac95cf8</td>\n",
       "      <td>6</td>\n",
       "      <td>88.78</td>\n",
       "      <td>2018-04-07 15:48:17</td>\n",
       "    </tr>\n",
       "    <tr>\n",
       "      <th>103882</th>\n",
       "      <td>d52a67c98be1cf6a5c84435bd38d095d</td>\n",
       "      <td>3</td>\n",
       "      <td>129.06</td>\n",
       "      <td>2018-04-04 08:20:22</td>\n",
       "    </tr>\n",
       "    <tr>\n",
       "      <th>103883</th>\n",
       "      <td>e9f50caf99f032f0bf3c55141f019d99</td>\n",
       "      <td>5</td>\n",
       "      <td>56.04</td>\n",
       "      <td>2018-04-08 20:11:50</td>\n",
       "    </tr>\n",
       "    <tr>\n",
       "      <th>103884</th>\n",
       "      <td>73c2643a0a458b49f58cea58833b192e</td>\n",
       "      <td>2</td>\n",
       "      <td>711.07</td>\n",
       "      <td>2017-11-03 21:08:33</td>\n",
       "    </tr>\n",
       "    <tr>\n",
       "      <th>103885</th>\n",
       "      <td>84732c5050c01db9b23e19ba39899398</td>\n",
       "      <td>1</td>\n",
       "      <td>21.77</td>\n",
       "      <td>2017-12-19 14:27:23</td>\n",
       "    </tr>\n",
       "  </tbody>\n",
       "</table>\n",
       "<p>103886 rows × 4 columns</p>\n",
       "</div>"
      ],
      "text/plain": [
       "                      customer_unique_id  payment_installments  payment_value  \\\n",
       "0       861eff4711a542e4b93843c6dd7febb0                     2         146.87   \n",
       "1       290c77bc529b7ac935b93aa66c333dc3                     8         335.48   \n",
       "2       060e732b5b29e8181a18229c7b0b2b5e                     7         157.73   \n",
       "3       259dac757896d24d7702b9acbbff3f3c                     1         173.30   \n",
       "4       345ecd01c38d18a9036ed96c73b8d066                     8         252.25   \n",
       "...                                  ...                   ...            ...   \n",
       "103881  1a29b476fee25c95fbafc67c5ac95cf8                     6          88.78   \n",
       "103882  d52a67c98be1cf6a5c84435bd38d095d                     3         129.06   \n",
       "103883  e9f50caf99f032f0bf3c55141f019d99                     5          56.04   \n",
       "103884  73c2643a0a458b49f58cea58833b192e                     2         711.07   \n",
       "103885  84732c5050c01db9b23e19ba39899398                     1          21.77   \n",
       "\n",
       "       order_purchase_timestamp  \n",
       "0           2017-05-16 15:05:35  \n",
       "1           2018-01-12 20:48:24  \n",
       "2           2018-05-19 16:07:45  \n",
       "3           2018-03-13 16:06:38  \n",
       "4           2018-07-29 09:51:30  \n",
       "...                         ...  \n",
       "103881      2018-04-07 15:48:17  \n",
       "103882      2018-04-04 08:20:22  \n",
       "103883      2018-04-08 20:11:50  \n",
       "103884      2017-11-03 21:08:33  \n",
       "103885      2017-12-19 14:27:23  \n",
       "\n",
       "[103886 rows x 4 columns]"
      ]
     },
     "execution_count": 26,
     "metadata": {},
     "output_type": "execute_result"
    }
   ],
   "source": [
    "df"
   ]
  },
  {
   "cell_type": "markdown",
   "metadata": {},
   "source": [
    "# converting time stamp to date "
   ]
  },
  {
   "cell_type": "code",
   "execution_count": 27,
   "metadata": {},
   "outputs": [],
   "source": [
    "df['date'] = pd.to_datetime(df.order_purchase_timestamp).dt.strftime('%d/%m/%Y')"
   ]
  },
  {
   "cell_type": "code",
   "execution_count": 29,
   "metadata": {},
   "outputs": [],
   "source": [
    "df.drop(['order_purchase_timestamp'],axis=1,inplace=True)"
   ]
  },
  {
   "cell_type": "code",
   "execution_count": 32,
   "metadata": {},
   "outputs": [
    {
     "data": {
      "text/html": [
       "<div>\n",
       "<style scoped>\n",
       "    .dataframe tbody tr th:only-of-type {\n",
       "        vertical-align: middle;\n",
       "    }\n",
       "\n",
       "    .dataframe tbody tr th {\n",
       "        vertical-align: top;\n",
       "    }\n",
       "\n",
       "    .dataframe thead th {\n",
       "        text-align: right;\n",
       "    }\n",
       "</style>\n",
       "<table border=\"1\" class=\"dataframe\">\n",
       "  <thead>\n",
       "    <tr style=\"text-align: right;\">\n",
       "      <th></th>\n",
       "      <th>customer_unique_id</th>\n",
       "      <th>payment_installments</th>\n",
       "      <th>payment_value</th>\n",
       "      <th>date</th>\n",
       "    </tr>\n",
       "  </thead>\n",
       "  <tbody>\n",
       "    <tr>\n",
       "      <th>0</th>\n",
       "      <td>861eff4711a542e4b93843c6dd7febb0</td>\n",
       "      <td>2</td>\n",
       "      <td>146.87</td>\n",
       "      <td>16/05/2017</td>\n",
       "    </tr>\n",
       "    <tr>\n",
       "      <th>1</th>\n",
       "      <td>290c77bc529b7ac935b93aa66c333dc3</td>\n",
       "      <td>8</td>\n",
       "      <td>335.48</td>\n",
       "      <td>12/01/2018</td>\n",
       "    </tr>\n",
       "    <tr>\n",
       "      <th>2</th>\n",
       "      <td>060e732b5b29e8181a18229c7b0b2b5e</td>\n",
       "      <td>7</td>\n",
       "      <td>157.73</td>\n",
       "      <td>19/05/2018</td>\n",
       "    </tr>\n",
       "    <tr>\n",
       "      <th>3</th>\n",
       "      <td>259dac757896d24d7702b9acbbff3f3c</td>\n",
       "      <td>1</td>\n",
       "      <td>173.30</td>\n",
       "      <td>13/03/2018</td>\n",
       "    </tr>\n",
       "    <tr>\n",
       "      <th>4</th>\n",
       "      <td>345ecd01c38d18a9036ed96c73b8d066</td>\n",
       "      <td>8</td>\n",
       "      <td>252.25</td>\n",
       "      <td>29/07/2018</td>\n",
       "    </tr>\n",
       "    <tr>\n",
       "      <th>...</th>\n",
       "      <td>...</td>\n",
       "      <td>...</td>\n",
       "      <td>...</td>\n",
       "      <td>...</td>\n",
       "    </tr>\n",
       "    <tr>\n",
       "      <th>103881</th>\n",
       "      <td>1a29b476fee25c95fbafc67c5ac95cf8</td>\n",
       "      <td>6</td>\n",
       "      <td>88.78</td>\n",
       "      <td>07/04/2018</td>\n",
       "    </tr>\n",
       "    <tr>\n",
       "      <th>103882</th>\n",
       "      <td>d52a67c98be1cf6a5c84435bd38d095d</td>\n",
       "      <td>3</td>\n",
       "      <td>129.06</td>\n",
       "      <td>04/04/2018</td>\n",
       "    </tr>\n",
       "    <tr>\n",
       "      <th>103883</th>\n",
       "      <td>e9f50caf99f032f0bf3c55141f019d99</td>\n",
       "      <td>5</td>\n",
       "      <td>56.04</td>\n",
       "      <td>08/04/2018</td>\n",
       "    </tr>\n",
       "    <tr>\n",
       "      <th>103884</th>\n",
       "      <td>73c2643a0a458b49f58cea58833b192e</td>\n",
       "      <td>2</td>\n",
       "      <td>711.07</td>\n",
       "      <td>03/11/2017</td>\n",
       "    </tr>\n",
       "    <tr>\n",
       "      <th>103885</th>\n",
       "      <td>84732c5050c01db9b23e19ba39899398</td>\n",
       "      <td>1</td>\n",
       "      <td>21.77</td>\n",
       "      <td>19/12/2017</td>\n",
       "    </tr>\n",
       "  </tbody>\n",
       "</table>\n",
       "<p>103886 rows × 4 columns</p>\n",
       "</div>"
      ],
      "text/plain": [
       "                      customer_unique_id  payment_installments  payment_value  \\\n",
       "0       861eff4711a542e4b93843c6dd7febb0                     2         146.87   \n",
       "1       290c77bc529b7ac935b93aa66c333dc3                     8         335.48   \n",
       "2       060e732b5b29e8181a18229c7b0b2b5e                     7         157.73   \n",
       "3       259dac757896d24d7702b9acbbff3f3c                     1         173.30   \n",
       "4       345ecd01c38d18a9036ed96c73b8d066                     8         252.25   \n",
       "...                                  ...                   ...            ...   \n",
       "103881  1a29b476fee25c95fbafc67c5ac95cf8                     6          88.78   \n",
       "103882  d52a67c98be1cf6a5c84435bd38d095d                     3         129.06   \n",
       "103883  e9f50caf99f032f0bf3c55141f019d99                     5          56.04   \n",
       "103884  73c2643a0a458b49f58cea58833b192e                     2         711.07   \n",
       "103885  84732c5050c01db9b23e19ba39899398                     1          21.77   \n",
       "\n",
       "              date  \n",
       "0       16/05/2017  \n",
       "1       12/01/2018  \n",
       "2       19/05/2018  \n",
       "3       13/03/2018  \n",
       "4       29/07/2018  \n",
       "...            ...  \n",
       "103881  07/04/2018  \n",
       "103882  04/04/2018  \n",
       "103883  08/04/2018  \n",
       "103884  03/11/2017  \n",
       "103885  19/12/2017  \n",
       "\n",
       "[103886 rows x 4 columns]"
      ]
     },
     "execution_count": 32,
     "metadata": {},
     "output_type": "execute_result"
    }
   ],
   "source": [
    "df"
   ]
  },
  {
   "cell_type": "markdown",
   "metadata": {},
   "source": [
    "# check for missing value"
   ]
  },
  {
   "cell_type": "code",
   "execution_count": 43,
   "metadata": {},
   "outputs": [
    {
     "name": "stdout",
     "output_type": "stream",
     "text": [
      "there are no missing value\n"
     ]
    },
    {
     "data": {
      "text/html": [
       "<div>\n",
       "<style scoped>\n",
       "    .dataframe tbody tr th:only-of-type {\n",
       "        vertical-align: middle;\n",
       "    }\n",
       "\n",
       "    .dataframe tbody tr th {\n",
       "        vertical-align: top;\n",
       "    }\n",
       "\n",
       "    .dataframe thead th {\n",
       "        text-align: right;\n",
       "    }\n",
       "</style>\n",
       "<table border=\"1\" class=\"dataframe\">\n",
       "  <thead>\n",
       "    <tr style=\"text-align: right;\">\n",
       "      <th></th>\n",
       "      <th>Total</th>\n",
       "      <th>Percent</th>\n",
       "      <th>type</th>\n",
       "    </tr>\n",
       "    <tr>\n",
       "      <th>nan col</th>\n",
       "      <th></th>\n",
       "      <th></th>\n",
       "      <th></th>\n",
       "    </tr>\n",
       "  </thead>\n",
       "  <tbody>\n",
       "  </tbody>\n",
       "</table>\n",
       "</div>"
      ],
      "text/plain": [
       "Empty DataFrame\n",
       "Columns: [Total, Percent, type]\n",
       "Index: []"
      ]
     },
     "execution_count": 43,
     "metadata": {},
     "output_type": "execute_result"
    }
   ],
   "source": [
    "total = df.isnull().sum().sort_values(ascending=False)\n",
    "percent = ((df.isnull().sum()/len(df))*100).sort_values(ascending=True)\n",
    "missing_data = pd.concat([total, percent], axis=1, keys=['Total', 'Percent'])\n",
    "nan=missing_data[missing_data[\"Total\"]>0].index\n",
    "missing_data=missing_data[missing_data[\"Total\"]>0]\n",
    "nan=pd.DataFrame(nan, columns=['nan col'])\n",
    "nan\n",
    "j=[]\n",
    "for i in nan['nan col']:\n",
    "    j.append(df[i].dtype)\n",
    "j=pd.DataFrame(j,columns=['type'])\n",
    "nan=pd.concat([nan,j],axis=1).set_index('nan col')\n",
    "nan=pd.concat([missing_data,nan],axis=1)\n",
    "if nan.empty:\n",
    "    print('there are no missing value')\n",
    "else:\n",
    "    print('the missing column name,total missing value, missing value percentage, and column type is seen above')\n",
    "nan"
   ]
  },
  {
   "cell_type": "markdown",
   "metadata": {},
   "source": [
    "# Check the Last order date"
   ]
  },
  {
   "cell_type": "code",
   "execution_count": 46,
   "metadata": {},
   "outputs": [
    {
     "name": "stdout",
     "output_type": "stream",
     "text": [
      "31/12/2017\n"
     ]
    }
   ],
   "source": [
    "last_order_date = df['date'].max()\n",
    "print(last_order_date)"
   ]
  },
  {
   "cell_type": "markdown",
   "metadata": {},
   "source": [
    "# Built-in utility functions from lifetimes package to transform the transactional data (one row per purchase)  into summary data (a frequency, recency, age and monetary).\n",
    "# Frequency represents the number of repeat purchases the customer has made\n",
    "# t=This is equal to the duration between a customer’s first purchase and the end of the period under study\n",
    "# Recency represents the age of the customer when they made their most recent purchases. This is equal to the duration between a customer’s first purchase and their latest purchase. "
   ]
  },
  {
   "cell_type": "code",
   "execution_count": 53,
   "metadata": {},
   "outputs": [
    {
     "data": {
      "text/html": [
       "<div>\n",
       "<style scoped>\n",
       "    .dataframe tbody tr th:only-of-type {\n",
       "        vertical-align: middle;\n",
       "    }\n",
       "\n",
       "    .dataframe tbody tr th {\n",
       "        vertical-align: top;\n",
       "    }\n",
       "\n",
       "    .dataframe thead th {\n",
       "        text-align: right;\n",
       "    }\n",
       "</style>\n",
       "<table border=\"1\" class=\"dataframe\">\n",
       "  <thead>\n",
       "    <tr style=\"text-align: right;\">\n",
       "      <th></th>\n",
       "      <th>frequency</th>\n",
       "      <th>recency</th>\n",
       "      <th>T</th>\n",
       "      <th>monetary_value</th>\n",
       "    </tr>\n",
       "    <tr>\n",
       "      <th>customer_unique_id</th>\n",
       "      <th></th>\n",
       "      <th></th>\n",
       "      <th></th>\n",
       "      <th></th>\n",
       "    </tr>\n",
       "  </thead>\n",
       "  <tbody>\n",
       "    <tr>\n",
       "      <th>32ea3bdedab835c3aa6cb68ce66565ef</th>\n",
       "      <td>1.0</td>\n",
       "      <td>566.0</td>\n",
       "      <td>661.0</td>\n",
       "      <td>56.78</td>\n",
       "    </tr>\n",
       "    <tr>\n",
       "      <th>0b3dc7efaafb0cf78a4796d42fa8d74c</th>\n",
       "      <td>1.0</td>\n",
       "      <td>474.0</td>\n",
       "      <td>630.0</td>\n",
       "      <td>356.13</td>\n",
       "    </tr>\n",
       "    <tr>\n",
       "      <th>4962136f755981b83b03f476e66eea7d</th>\n",
       "      <td>1.0</td>\n",
       "      <td>427.0</td>\n",
       "      <td>477.0</td>\n",
       "      <td>163.53</td>\n",
       "    </tr>\n",
       "    <tr>\n",
       "      <th>8329519e31cb1b89bd44c3c6ae417ad6</th>\n",
       "      <td>1.0</td>\n",
       "      <td>389.0</td>\n",
       "      <td>477.0</td>\n",
       "      <td>111.30</td>\n",
       "    </tr>\n",
       "    <tr>\n",
       "      <th>2dc7f51f05ba1b1a92608e45e55d1fe1</th>\n",
       "      <td>1.0</td>\n",
       "      <td>352.0</td>\n",
       "      <td>362.0</td>\n",
       "      <td>67.43</td>\n",
       "    </tr>\n",
       "    <tr>\n",
       "      <th>...</th>\n",
       "      <td>...</td>\n",
       "      <td>...</td>\n",
       "      <td>...</td>\n",
       "      <td>...</td>\n",
       "    </tr>\n",
       "    <tr>\n",
       "      <th>558cb7d841f132be98d632d22e6bde5f</th>\n",
       "      <td>0.0</td>\n",
       "      <td>0.0</td>\n",
       "      <td>45.0</td>\n",
       "      <td>0.00</td>\n",
       "    </tr>\n",
       "    <tr>\n",
       "      <th>558d25e550c5a1300c5775a26df16158</th>\n",
       "      <td>0.0</td>\n",
       "      <td>0.0</td>\n",
       "      <td>184.0</td>\n",
       "      <td>0.00</td>\n",
       "    </tr>\n",
       "    <tr>\n",
       "      <th>558e83cbe6bde610b528833d16ba588e</th>\n",
       "      <td>0.0</td>\n",
       "      <td>0.0</td>\n",
       "      <td>166.0</td>\n",
       "      <td>0.00</td>\n",
       "    </tr>\n",
       "    <tr>\n",
       "      <th>558e8c5c045f205b5b9ca29ec2d281b3</th>\n",
       "      <td>0.0</td>\n",
       "      <td>0.0</td>\n",
       "      <td>171.0</td>\n",
       "      <td>0.00</td>\n",
       "    </tr>\n",
       "    <tr>\n",
       "      <th>ffffd2657e2aad2907e67c3e9daecbeb</th>\n",
       "      <td>0.0</td>\n",
       "      <td>0.0</td>\n",
       "      <td>329.0</td>\n",
       "      <td>0.00</td>\n",
       "    </tr>\n",
       "  </tbody>\n",
       "</table>\n",
       "<p>44033 rows × 4 columns</p>\n",
       "</div>"
      ],
      "text/plain": [
       "                                  frequency  recency      T  monetary_value\n",
       "customer_unique_id                                                         \n",
       "32ea3bdedab835c3aa6cb68ce66565ef        1.0    566.0  661.0           56.78\n",
       "0b3dc7efaafb0cf78a4796d42fa8d74c        1.0    474.0  630.0          356.13\n",
       "4962136f755981b83b03f476e66eea7d        1.0    427.0  477.0          163.53\n",
       "8329519e31cb1b89bd44c3c6ae417ad6        1.0    389.0  477.0          111.30\n",
       "2dc7f51f05ba1b1a92608e45e55d1fe1        1.0    352.0  362.0           67.43\n",
       "...                                     ...      ...    ...             ...\n",
       "558cb7d841f132be98d632d22e6bde5f        0.0      0.0   45.0            0.00\n",
       "558d25e550c5a1300c5775a26df16158        0.0      0.0  184.0            0.00\n",
       "558e83cbe6bde610b528833d16ba588e        0.0      0.0  166.0            0.00\n",
       "558e8c5c045f205b5b9ca29ec2d281b3        0.0      0.0  171.0            0.00\n",
       "ffffd2657e2aad2907e67c3e9daecbeb        0.0      0.0  329.0            0.00\n",
       "\n",
       "[44033 rows x 4 columns]"
      ]
     },
     "execution_count": 53,
     "metadata": {},
     "output_type": "execute_result"
    }
   ],
   "source": [
    "lf_tx_data = summary_data_from_transaction_data(df, 'customer_unique_id', 'date', monetary_value_col='payment_value', observation_period_end='2017-12-31')\n",
    "\n",
    "lf_tx_data.reset_index()\n",
    "lf_tx_data.sort_values('recency',ascending =False)"
   ]
  },
  {
   "cell_type": "markdown",
   "metadata": {},
   "source": [
    "# Create histogram to find out how many customers purchased item only once."
   ]
  },
  {
   "cell_type": "code",
   "execution_count": 56,
   "metadata": {},
   "outputs": [
    {
     "name": "stdout",
     "output_type": "stream",
     "text": [
      "count    44033.000000\n",
      "mean         0.018736\n",
      "std          0.153504\n",
      "min          0.000000\n",
      "25%          0.000000\n",
      "50%          0.000000\n",
      "75%          0.000000\n",
      "max          9.000000\n",
      "Name: frequency, dtype: float64\n",
      "---------------------------------------\n",
      "Percentage of customers purchase the item only once: 98.29 %\n"
     ]
    },
    {
     "data": {
      "image/png": "[encoded data removed]",
      "text/plain": [
       "<Figure size 432x288 with 1 Axes>"
      ]
     },
     "metadata": {
      "needs_background": "light"
     },
     "output_type": "display_data"
    }
   ],
   "source": [
    "lf_tx_data['frequency'].plot(kind='hist', bins=50)\n",
    "print(lf_tx_data['frequency'].describe())\n",
    "print(\"---------------------------------------\")\n",
    "one_time_buyers = round(sum(lf_tx_data['frequency'] == 0)/float(len(lf_tx_data))*(100),2)\n",
    "print(\"Percentage of customers purchase the item only once:\", one_time_buyers ,\"%\")"
   ]
  },
  {
   "cell_type": "markdown",
   "metadata": {},
   "source": [
    "# Frequency/Recency Analysis Using the BG/NBD Model"
   ]
  },
  {
   "cell_type": "code",
   "execution_count": 82,
   "metadata": {},
   "outputs": [
    {
     "name": "stdout",
     "output_type": "stream",
     "text": [
      "<lifetimes.BetaGeoFitter: fitted with 44033 subjects, a: 0.18, alpha: 407.53, b: 0.11, r: 0.06>\n"
     ]
    }
   ],
   "source": [
    "from lifetimes import BetaGeoFitter\n",
    "bgf = BetaGeoFitter(penalizer_coef=0.0)\n",
    "bgf.fit(lf_tx_data['frequency'], lf_tx_data['recency'], lf_tx_data['T'])\n",
    "print(bgf)\n"
   ]
  },
  {
   "cell_type": "code",
   "execution_count": 59,
   "metadata": {},
   "outputs": [
    {
     "data": {
      "text/html": [
       "<div>\n",
       "<style scoped>\n",
       "    .dataframe tbody tr th:only-of-type {\n",
       "        vertical-align: middle;\n",
       "    }\n",
       "\n",
       "    .dataframe tbody tr th {\n",
       "        vertical-align: top;\n",
       "    }\n",
       "\n",
       "    .dataframe thead th {\n",
       "        text-align: right;\n",
       "    }\n",
       "</style>\n",
       "<table border=\"1\" class=\"dataframe\">\n",
       "  <thead>\n",
       "    <tr style=\"text-align: right;\">\n",
       "      <th></th>\n",
       "      <th>coef</th>\n",
       "      <th>se(coef)</th>\n",
       "      <th>lower 95% bound</th>\n",
       "      <th>upper 95% bound</th>\n",
       "    </tr>\n",
       "  </thead>\n",
       "  <tbody>\n",
       "    <tr>\n",
       "      <th>r</th>\n",
       "      <td>0.056038</td>\n",
       "      <td>0.012413</td>\n",
       "      <td>0.031708</td>\n",
       "      <td>0.080369</td>\n",
       "    </tr>\n",
       "    <tr>\n",
       "      <th>alpha</th>\n",
       "      <td>407.534512</td>\n",
       "      <td>108.642531</td>\n",
       "      <td>194.595152</td>\n",
       "      <td>620.473872</td>\n",
       "    </tr>\n",
       "    <tr>\n",
       "      <th>a</th>\n",
       "      <td>0.184489</td>\n",
       "      <td>0.351486</td>\n",
       "      <td>-0.504423</td>\n",
       "      <td>0.873402</td>\n",
       "    </tr>\n",
       "    <tr>\n",
       "      <th>b</th>\n",
       "      <td>0.107071</td>\n",
       "      <td>0.192302</td>\n",
       "      <td>-0.269840</td>\n",
       "      <td>0.483983</td>\n",
       "    </tr>\n",
       "  </tbody>\n",
       "</table>\n",
       "</div>"
      ],
      "text/plain": [
       "             coef    se(coef)  lower 95% bound  upper 95% bound\n",
       "r        0.056038    0.012413         0.031708         0.080369\n",
       "alpha  407.534512  108.642531       194.595152       620.473872\n",
       "a        0.184489    0.351486        -0.504423         0.873402\n",
       "b        0.107071    0.192302        -0.269840         0.483983"
      ]
     },
     "execution_count": 59,
     "metadata": {},
     "output_type": "execute_result"
    }
   ],
   "source": [
    "bgf.summary"
   ]
  },
  {
   "cell_type": "markdown",
   "metadata": {},
   "source": [
    "# Visualizing our frequency/recency matrix"
   ]
  },
  {
   "cell_type": "code",
   "execution_count": 60,
   "metadata": {},
   "outputs": [
    {
     "data": {
      "text/plain": [
       "<matplotlib.axes._subplots.AxesSubplot at 0x1f797657790>"
      ]
     },
     "execution_count": 60,
     "metadata": {},
     "output_type": "execute_result"
    },
    {
     "data": {
      "image/png": "[encoded data removed]",
      "text/plain": [
       "<Figure size 864x576 with 2 Axes>"
      ]
     },
     "metadata": {
      "needs_background": "light"
     },
     "output_type": "display_data"
    }
   ],
   "source": [
    "\n",
    "%matplotlib inline\n",
    "import matplotlib.pyplot as plt\n",
    "from lifetimes.plotting import plot_frequency_recency_matrix\n",
    "fig = plt.figure(figsize=(12,8))\n",
    "plot_frequency_recency_matrix(bgf)"
   ]
  },
  {
   "cell_type": "markdown",
   "metadata": {},
   "source": [
    "# predict if the customers are  alive"
   ]
  },
  {
   "cell_type": "code",
   "execution_count": 61,
   "metadata": {},
   "outputs": [
    {
     "data": {
      "text/plain": [
       "<matplotlib.axes._subplots.AxesSubplot at 0x1f7978eb460>"
      ]
     },
     "execution_count": 61,
     "metadata": {},
     "output_type": "execute_result"
    },
    {
     "data": {
      "image/png": "[encoded data removed]",
      "text/plain": [
       "<Figure size 864x576 with 2 Axes>"
      ]
     },
     "metadata": {
      "needs_background": "light"
     },
     "output_type": "display_data"
    }
   ],
   "source": [
    "\n",
    "\n",
    "from lifetimes.plotting import plot_probability_alive_matrix\n",
    "fig = plt.figure(figsize=(12,8))\n",
    "plot_probability_alive_matrix(bgf)"
   ]
  },
  {
   "cell_type": "markdown",
   "metadata": {},
   "source": [
    "# Predict future transaction in next 10 days i.e.top 10 customers that the model expects them to make purchases in the next 10 days, based on historical data\n"
   ]
  },
  {
   "cell_type": "code",
   "execution_count": 63,
   "metadata": {},
   "outputs": [
    {
     "data": {
      "text/html": [
       "<div>\n",
       "<style scoped>\n",
       "    .dataframe tbody tr th:only-of-type {\n",
       "        vertical-align: middle;\n",
       "    }\n",
       "\n",
       "    .dataframe tbody tr th {\n",
       "        vertical-align: top;\n",
       "    }\n",
       "\n",
       "    .dataframe thead th {\n",
       "        text-align: right;\n",
       "    }\n",
       "</style>\n",
       "<table border=\"1\" class=\"dataframe\">\n",
       "  <thead>\n",
       "    <tr style=\"text-align: right;\">\n",
       "      <th></th>\n",
       "      <th>customer_unique_id</th>\n",
       "      <th>frequency</th>\n",
       "      <th>recency</th>\n",
       "      <th>T</th>\n",
       "      <th>monetary_value</th>\n",
       "      <th>pred_num_txn</th>\n",
       "    </tr>\n",
       "  </thead>\n",
       "  <tbody>\n",
       "    <tr>\n",
       "      <th>0</th>\n",
       "      <td>8d50f5eadf50201ccdcedfb9e2ac8455</td>\n",
       "      <td>9.0</td>\n",
       "      <td>198.0</td>\n",
       "      <td>237.0</td>\n",
       "      <td>46.850000</td>\n",
       "      <td>0.13</td>\n",
       "    </tr>\n",
       "    <tr>\n",
       "      <th>1</th>\n",
       "      <td>1b6c7548a2a1f9037c1fd3ddfed95f33</td>\n",
       "      <td>4.0</td>\n",
       "      <td>252.0</td>\n",
       "      <td>263.0</td>\n",
       "      <td>135.820000</td>\n",
       "      <td>0.06</td>\n",
       "    </tr>\n",
       "    <tr>\n",
       "      <th>2</th>\n",
       "      <td>dc813062e0fc23409cd255f7f53c7074</td>\n",
       "      <td>4.0</td>\n",
       "      <td>322.0</td>\n",
       "      <td>358.0</td>\n",
       "      <td>158.987500</td>\n",
       "      <td>0.05</td>\n",
       "    </tr>\n",
       "    <tr>\n",
       "      <th>3</th>\n",
       "      <td>47c1a3033b8b77b3ab6e109eb4d5fdf3</td>\n",
       "      <td>3.0</td>\n",
       "      <td>142.0</td>\n",
       "      <td>176.0</td>\n",
       "      <td>252.853333</td>\n",
       "      <td>0.05</td>\n",
       "    </tr>\n",
       "    <tr>\n",
       "      <th>4</th>\n",
       "      <td>fc719c11b4dce594f47e1f9aa739a3a2</td>\n",
       "      <td>2.0</td>\n",
       "      <td>40.0</td>\n",
       "      <td>45.0</td>\n",
       "      <td>101.480000</td>\n",
       "      <td>0.04</td>\n",
       "    </tr>\n",
       "    <tr>\n",
       "      <th>5</th>\n",
       "      <td>63cfc61cee11cbe306bff5857d00bfe4</td>\n",
       "      <td>3.0</td>\n",
       "      <td>168.0</td>\n",
       "      <td>224.0</td>\n",
       "      <td>157.273333</td>\n",
       "      <td>0.04</td>\n",
       "    </tr>\n",
       "    <tr>\n",
       "      <th>6</th>\n",
       "      <td>b8b3c435a58aebd788a477bed8342910</td>\n",
       "      <td>3.0</td>\n",
       "      <td>155.0</td>\n",
       "      <td>240.0</td>\n",
       "      <td>299.380000</td>\n",
       "      <td>0.04</td>\n",
       "    </tr>\n",
       "    <tr>\n",
       "      <th>7</th>\n",
       "      <td>ec7f1811826ab04a27a92197bc40c888</td>\n",
       "      <td>3.0</td>\n",
       "      <td>311.0</td>\n",
       "      <td>323.0</td>\n",
       "      <td>85.833333</td>\n",
       "      <td>0.04</td>\n",
       "    </tr>\n",
       "    <tr>\n",
       "      <th>8</th>\n",
       "      <td>a7657330b1c135f3acd420326e335b2c</td>\n",
       "      <td>3.0</td>\n",
       "      <td>179.0</td>\n",
       "      <td>295.0</td>\n",
       "      <td>197.926667</td>\n",
       "      <td>0.04</td>\n",
       "    </tr>\n",
       "    <tr>\n",
       "      <th>9</th>\n",
       "      <td>f0e310a6839dce9de1638e0fe5ab282a</td>\n",
       "      <td>3.0</td>\n",
       "      <td>219.0</td>\n",
       "      <td>298.0</td>\n",
       "      <td>130.856667</td>\n",
       "      <td>0.04</td>\n",
       "    </tr>\n",
       "  </tbody>\n",
       "</table>\n",
       "</div>"
      ],
      "text/plain": [
       "                 customer_unique_id  frequency  recency      T  \\\n",
       "0  8d50f5eadf50201ccdcedfb9e2ac8455        9.0    198.0  237.0   \n",
       "1  1b6c7548a2a1f9037c1fd3ddfed95f33        4.0    252.0  263.0   \n",
       "2  dc813062e0fc23409cd255f7f53c7074        4.0    322.0  358.0   \n",
       "3  47c1a3033b8b77b3ab6e109eb4d5fdf3        3.0    142.0  176.0   \n",
       "4  fc719c11b4dce594f47e1f9aa739a3a2        2.0     40.0   45.0   \n",
       "5  63cfc61cee11cbe306bff5857d00bfe4        3.0    168.0  224.0   \n",
       "6  b8b3c435a58aebd788a477bed8342910        3.0    155.0  240.0   \n",
       "7  ec7f1811826ab04a27a92197bc40c888        3.0    311.0  323.0   \n",
       "8  a7657330b1c135f3acd420326e335b2c        3.0    179.0  295.0   \n",
       "9  f0e310a6839dce9de1638e0fe5ab282a        3.0    219.0  298.0   \n",
       "\n",
       "   monetary_value  pred_num_txn  \n",
       "0       46.850000          0.13  \n",
       "1      135.820000          0.06  \n",
       "2      158.987500          0.05  \n",
       "3      252.853333          0.05  \n",
       "4      101.480000          0.04  \n",
       "5      157.273333          0.04  \n",
       "6      299.380000          0.04  \n",
       "7       85.833333          0.04  \n",
       "8      197.926667          0.04  \n",
       "9      130.856667          0.04  "
      ]
     },
     "execution_count": 63,
     "metadata": {},
     "output_type": "execute_result"
    }
   ],
   "source": [
    "t = 10\n",
    "lf_tx_data['pred_num_txn'] = round(bgf.conditional_expected_number_of_purchases_up_to_time(t, lf_tx_data['frequency'], lf_tx_data['recency'], lf_tx_data['T']),2)\n",
    "lf_tx_data.sort_values(by='pred_num_txn', ascending=False).head(10).reset_index()"
   ]
  },
  {
   "cell_type": "markdown",
   "metadata": {},
   "source": [
    "# Assessing model fit"
   ]
  },
  {
   "cell_type": "code",
   "execution_count": 64,
   "metadata": {},
   "outputs": [
    {
     "data": {
      "text/plain": [
       "<matplotlib.axes._subplots.AxesSubplot at 0x1f79842c310>"
      ]
     },
     "execution_count": 64,
     "metadata": {},
     "output_type": "execute_result"
    },
    {
     "data": {
      "image/png": "[encoded data removed]",
      "text/plain": [
       "<Figure size 432x288 with 1 Axes>"
      ]
     },
     "metadata": {
      "needs_background": "light"
     },
     "output_type": "display_data"
    }
   ],
   "source": [
    "\n",
    "from lifetimes.plotting import plot_period_transactions\n",
    "plot_period_transactions(bgf)\n"
   ]
  },
  {
   "cell_type": "markdown",
   "metadata": {},
   "source": [
    "# Customer's future transaction prediction for next 10 days"
   ]
  },
  {
   "cell_type": "code",
   "execution_count": 75,
   "metadata": {},
   "outputs": [
    {
     "name": "stdout",
     "output_type": "stream",
     "text": [
      "Our model predicts that customer 8d50f5eadf50201ccdcedfb9e2ac8455s future transaction is appx 0 in 10 days\n"
     ]
    },
    {
     "data": {
      "text/plain": [
       "0.40343700027976215"
      ]
     },
     "execution_count": 75,
     "metadata": {},
     "output_type": "execute_result"
    }
   ],
   "source": [
    "t = 30\n",
    "individual = lf_tx_data.loc['8d50f5eadf50201ccdcedfb9e2ac8455']\n",
    "p1=bgf.predict(t, individual['frequency'], individual['recency'], individual['T'])\n",
    "print('Our model predicts that customer 8d50f5eadf50201ccdcedfb9e2ac8455s future transaction is appx 0 in 10 days')\n",
    "p1"
   ]
  },
  {
   "cell_type": "code",
   "execution_count": 76,
   "metadata": {},
   "outputs": [
    {
     "data": {
      "text/html": [
       "<div>\n",
       "<style scoped>\n",
       "    .dataframe tbody tr th:only-of-type {\n",
       "        vertical-align: middle;\n",
       "    }\n",
       "\n",
       "    .dataframe tbody tr th {\n",
       "        vertical-align: top;\n",
       "    }\n",
       "\n",
       "    .dataframe thead th {\n",
       "        text-align: right;\n",
       "    }\n",
       "</style>\n",
       "<table border=\"1\" class=\"dataframe\">\n",
       "  <thead>\n",
       "    <tr style=\"text-align: right;\">\n",
       "      <th></th>\n",
       "      <th>monetary_value</th>\n",
       "      <th>frequency</th>\n",
       "    </tr>\n",
       "  </thead>\n",
       "  <tbody>\n",
       "    <tr>\n",
       "      <th>monetary_value</th>\n",
       "      <td>1.000000</td>\n",
       "      <td>0.586758</td>\n",
       "    </tr>\n",
       "    <tr>\n",
       "      <th>frequency</th>\n",
       "      <td>0.586758</td>\n",
       "      <td>1.000000</td>\n",
       "    </tr>\n",
       "  </tbody>\n",
       "</table>\n",
       "</div>"
      ],
      "text/plain": [
       "                monetary_value  frequency\n",
       "monetary_value        1.000000   0.586758\n",
       "frequency             0.586758   1.000000"
      ]
     },
     "execution_count": 76,
     "metadata": {},
     "output_type": "execute_result"
    }
   ],
   "source": [
    "#Check if there is correlation between monetary value and frequency in order to use gamma gamma model for CLV calculation.\n",
    "lf_tx_data[['monetary_value', 'frequency']].corr()"
   ]
  },
  {
   "cell_type": "markdown",
   "metadata": {},
   "source": [
    "# Shortlist customers who had at least one repeat purchase with the company. \n"
   ]
  },
  {
   "cell_type": "code",
   "execution_count": 78,
   "metadata": {},
   "outputs": [
    {
     "name": "stdout",
     "output_type": "stream",
     "text": [
      "                 customer_unique_id  frequency  recency      T  \\\n",
      "0  013f4353d26bb05dc6652f1269458d8d        1.0      4.0   37.0   \n",
      "1  015557c9912277312b9073947804a7ba        1.0     77.0  360.0   \n",
      "2  018b5a7502c30eb5f230f1b4eb23a156        1.0     94.0  227.0   \n",
      "3  01c289bb06354cdc7e6549570f20ada4        1.0    295.0  300.0   \n",
      "4  02168ea18740a0fdaaa15f11bebba5db        1.0     21.0  133.0   \n",
      "\n",
      "   monetary_value  pred_num_txn  \n",
      "0          164.04          0.01  \n",
      "1          242.22          0.00  \n",
      "2           55.09          0.01  \n",
      "3          168.36          0.01  \n",
      "4          132.02          0.01  \n",
      "-----------------------------------------\n",
      "The Number of Returning Customers are:  754\n"
     ]
    }
   ],
   "source": [
    "shortlisted_customers = lf_tx_data[lf_tx_data['frequency']>0]\n",
    "print(shortlisted_customers.head().reset_index())\n",
    "print(\"-----------------------------------------\")\n",
    "print(\"The Number of Returning Customers are: \",len(shortlisted_customers))"
   ]
  },
  {
   "cell_type": "markdown",
   "metadata": {},
   "source": [
    "# Train gamma-gamma model by taking into account the monetary_value.\n"
   ]
  },
  {
   "cell_type": "code",
   "execution_count": 79,
   "metadata": {},
   "outputs": [
    {
     "name": "stdout",
     "output_type": "stream",
     "text": [
      "<lifetimes.GammaGammaFitter: fitted with 754 subjects, p: 9.52, q: 2.32, v: 21.94>\n"
     ]
    }
   ],
   "source": [
    "from lifetimes import GammaGammaFitter\n",
    "ggf = GammaGammaFitter(penalizer_coef = 0)\n",
    "ggf.fit(shortlisted_customers['frequency'],\n",
    "        shortlisted_customers['monetary_value'])\n",
    "print(ggf)"
   ]
  },
  {
   "cell_type": "markdown",
   "metadata": {},
   "source": [
    "# After applying Gamma-Gamma model, now we can estimate average transaction value for each customer. \n"
   ]
  },
  {
   "cell_type": "code",
   "execution_count": 80,
   "metadata": {},
   "outputs": [
    {
     "name": "stdout",
     "output_type": "stream",
     "text": [
      "customer_unique_id\n",
      "0000f46a3911fa3c0805444483337064    158.599723\n",
      "0000f6ccb0745a6a4b88665a16c9f078    158.599723\n",
      "0004aac84e0df4da2b147fca70cf8255    158.599723\n",
      "0005e1862207bf6ccc02e4228effd9a0    158.599723\n",
      "0006fdc98a402fceb4eb0ee528f6a8d4    158.599723\n",
      "00082cbe03e478190aadbea78542e933    158.599723\n",
      "000a5ad9c4601d2bbdd9ed765d5213b3    158.599723\n",
      "000bfa1d2f1a41876493be685390d6d3    158.599723\n",
      "000c8bdb58a29e7115cfc257230fb21b    158.599723\n",
      "000de6019bb59f34c099a907c151d855    158.599723\n",
      "dtype: float64\n"
     ]
    }
   ],
   "source": [
    "print(ggf.conditional_expected_average_profit(\n",
    "        lf_tx_data['frequency'],\n",
    "        lf_tx_data['monetary_value']\n",
    "    ).head(10))"
   ]
  },
  {
   "cell_type": "code",
   "execution_count": 81,
   "metadata": {},
   "outputs": [
    {
     "data": {
      "text/html": [
       "<div>\n",
       "<style scoped>\n",
       "    .dataframe tbody tr th:only-of-type {\n",
       "        vertical-align: middle;\n",
       "    }\n",
       "\n",
       "    .dataframe tbody tr th {\n",
       "        vertical-align: top;\n",
       "    }\n",
       "\n",
       "    .dataframe thead th {\n",
       "        text-align: right;\n",
       "    }\n",
       "</style>\n",
       "<table border=\"1\" class=\"dataframe\">\n",
       "  <thead>\n",
       "    <tr style=\"text-align: right;\">\n",
       "      <th></th>\n",
       "      <th>customer_unique_id</th>\n",
       "      <th>frequency</th>\n",
       "      <th>recency</th>\n",
       "      <th>T</th>\n",
       "      <th>monetary_value</th>\n",
       "      <th>pred_num_txn</th>\n",
       "      <th>pred_txn_value</th>\n",
       "    </tr>\n",
       "  </thead>\n",
       "  <tbody>\n",
       "    <tr>\n",
       "      <th>0</th>\n",
       "      <td>0000f46a3911fa3c0805444483337064</td>\n",
       "      <td>0.0</td>\n",
       "      <td>0.0</td>\n",
       "      <td>89.0</td>\n",
       "      <td>0.0</td>\n",
       "      <td>0.0</td>\n",
       "      <td>158.6</td>\n",
       "    </tr>\n",
       "    <tr>\n",
       "      <th>1</th>\n",
       "      <td>0000f6ccb0745a6a4b88665a16c9f078</td>\n",
       "      <td>0.0</td>\n",
       "      <td>0.0</td>\n",
       "      <td>21.0</td>\n",
       "      <td>0.0</td>\n",
       "      <td>0.0</td>\n",
       "      <td>158.6</td>\n",
       "    </tr>\n",
       "    <tr>\n",
       "      <th>2</th>\n",
       "      <td>0004aac84e0df4da2b147fca70cf8255</td>\n",
       "      <td>0.0</td>\n",
       "      <td>0.0</td>\n",
       "      <td>47.0</td>\n",
       "      <td>0.0</td>\n",
       "      <td>0.0</td>\n",
       "      <td>158.6</td>\n",
       "    </tr>\n",
       "    <tr>\n",
       "      <th>3</th>\n",
       "      <td>0005e1862207bf6ccc02e4228effd9a0</td>\n",
       "      <td>0.0</td>\n",
       "      <td>0.0</td>\n",
       "      <td>272.0</td>\n",
       "      <td>0.0</td>\n",
       "      <td>0.0</td>\n",
       "      <td>158.6</td>\n",
       "    </tr>\n",
       "    <tr>\n",
       "      <th>4</th>\n",
       "      <td>0006fdc98a402fceb4eb0ee528f6a8d4</td>\n",
       "      <td>0.0</td>\n",
       "      <td>0.0</td>\n",
       "      <td>166.0</td>\n",
       "      <td>0.0</td>\n",
       "      <td>0.0</td>\n",
       "      <td>158.6</td>\n",
       "    </tr>\n",
       "  </tbody>\n",
       "</table>\n",
       "</div>"
      ],
      "text/plain": [
       "                 customer_unique_id  frequency  recency      T  \\\n",
       "0  0000f46a3911fa3c0805444483337064        0.0      0.0   89.0   \n",
       "1  0000f6ccb0745a6a4b88665a16c9f078        0.0      0.0   21.0   \n",
       "2  0004aac84e0df4da2b147fca70cf8255        0.0      0.0   47.0   \n",
       "3  0005e1862207bf6ccc02e4228effd9a0        0.0      0.0  272.0   \n",
       "4  0006fdc98a402fceb4eb0ee528f6a8d4        0.0      0.0  166.0   \n",
       "\n",
       "   monetary_value  pred_num_txn  pred_txn_value  \n",
       "0             0.0           0.0           158.6  \n",
       "1             0.0           0.0           158.6  \n",
       "2             0.0           0.0           158.6  \n",
       "3             0.0           0.0           158.6  \n",
       "4             0.0           0.0           158.6  "
      ]
     },
     "execution_count": 81,
     "metadata": {},
     "output_type": "execute_result"
    }
   ],
   "source": [
    "\n",
    "lf_tx_data['pred_txn_value'] = round(ggf.conditional_expected_average_profit(\n",
    "        lf_tx_data['frequency'],\n",
    "        lf_tx_data['monetary_value']), 2)\n",
    "lf_tx_data.reset_index().head()"
   ]
  },
  {
   "cell_type": "markdown",
   "metadata": {},
   "source": [
    "# Calculate Customer Lifetime Value\n"
   ]
  },
  {
   "cell_type": "code",
   "execution_count": 84,
   "metadata": {},
   "outputs": [
    {
     "data": {
      "text/html": [
       "<div>\n",
       "<style scoped>\n",
       "    .dataframe tbody tr th:only-of-type {\n",
       "        vertical-align: middle;\n",
       "    }\n",
       "\n",
       "    .dataframe tbody tr th {\n",
       "        vertical-align: top;\n",
       "    }\n",
       "\n",
       "    .dataframe thead th {\n",
       "        text-align: right;\n",
       "    }\n",
       "</style>\n",
       "<table border=\"1\" class=\"dataframe\">\n",
       "  <thead>\n",
       "    <tr style=\"text-align: right;\">\n",
       "      <th></th>\n",
       "      <th>customer_unique_id</th>\n",
       "      <th>CLV</th>\n",
       "    </tr>\n",
       "  </thead>\n",
       "  <tbody>\n",
       "    <tr>\n",
       "      <th>0</th>\n",
       "      <td>86df00dc5fd68f4dd5d5945ca19f3ed6</td>\n",
       "      <td>697.25</td>\n",
       "    </tr>\n",
       "    <tr>\n",
       "      <th>1</th>\n",
       "      <td>a1044dd75b74fbc485b040575a14acf0</td>\n",
       "      <td>404.68</td>\n",
       "    </tr>\n",
       "    <tr>\n",
       "      <th>2</th>\n",
       "      <td>b8b3c435a58aebd788a477bed8342910</td>\n",
       "      <td>391.16</td>\n",
       "    </tr>\n",
       "    <tr>\n",
       "      <th>3</th>\n",
       "      <td>47c1a3033b8b77b3ab6e109eb4d5fdf3</td>\n",
       "      <td>376.26</td>\n",
       "    </tr>\n",
       "    <tr>\n",
       "      <th>4</th>\n",
       "      <td>3db6e5afa8e8178a29afc729855315e2</td>\n",
       "      <td>330.13</td>\n",
       "    </tr>\n",
       "    <tr>\n",
       "      <th>5</th>\n",
       "      <td>21bde4e982c4681021edabb899bcebfe</td>\n",
       "      <td>300.75</td>\n",
       "    </tr>\n",
       "    <tr>\n",
       "      <th>6</th>\n",
       "      <td>055ec572ac7f3c7bdd04a183830ebe59</td>\n",
       "      <td>290.18</td>\n",
       "    </tr>\n",
       "    <tr>\n",
       "      <th>7</th>\n",
       "      <td>6419a1be8feac26ec793667b71cbaeb4</td>\n",
       "      <td>270.78</td>\n",
       "    </tr>\n",
       "    <tr>\n",
       "      <th>8</th>\n",
       "      <td>e30b83af13d6ff0b0f427b2a67c43b39</td>\n",
       "      <td>268.58</td>\n",
       "    </tr>\n",
       "    <tr>\n",
       "      <th>9</th>\n",
       "      <td>dc813062e0fc23409cd255f7f53c7074</td>\n",
       "      <td>254.16</td>\n",
       "    </tr>\n",
       "  </tbody>\n",
       "</table>\n",
       "</div>"
      ],
      "text/plain": [
       "                 customer_unique_id     CLV\n",
       "0  86df00dc5fd68f4dd5d5945ca19f3ed6  697.25\n",
       "1  a1044dd75b74fbc485b040575a14acf0  404.68\n",
       "2  b8b3c435a58aebd788a477bed8342910  391.16\n",
       "3  47c1a3033b8b77b3ab6e109eb4d5fdf3  376.26\n",
       "4  3db6e5afa8e8178a29afc729855315e2  330.13\n",
       "5  21bde4e982c4681021edabb899bcebfe  300.75\n",
       "6  055ec572ac7f3c7bdd04a183830ebe59  290.18\n",
       "7  6419a1be8feac26ec793667b71cbaeb4  270.78\n",
       "8  e30b83af13d6ff0b0f427b2a67c43b39  268.58\n",
       "9  dc813062e0fc23409cd255f7f53c7074  254.16"
      ]
     },
     "execution_count": 84,
     "metadata": {},
     "output_type": "execute_result"
    }
   ],
   "source": [
    "lf_tx_data['CLV'] = round(ggf.customer_lifetime_value(\n",
    "    bgf, #the model to use to predict the number of future transactions\n",
    "    lf_tx_data['frequency'],\n",
    "    lf_tx_data['recency'],\n",
    "    lf_tx_data['T'],\n",
    "    lf_tx_data['monetary_value'],\n",
    "    time=12, # months\n",
    "    discount_rate=0.01 # monthly discount rate ~ 12.7% annually\n",
    "), 2)\n",
    "\n",
    "lf_tx_data.drop(lf_tx_data.iloc[:, 0:6], inplace=True, axis=1)\n",
    "\n",
    "lf_tx_data.sort_values(by='CLV', ascending=False).head(10).reset_index()"
   ]
  },
  {
   "cell_type": "code",
   "execution_count": null,
   "metadata": {},
   "outputs": [],
   "source": []
  }
 ],
 "metadata": {
  "kernelspec": {
   "display_name": "Python 3",
   "language": "python",
   "name": "python3"
  },
  "language_info": {
   "codemirror_mode": {
    "name": "ipython",
    "version": 3
   },
   "file_extension": ".py",
   "mimetype": "text/x-python",
   "name": "python",
   "nbconvert_exporter": "python",
   "pygments_lexer": "ipython3",
   "version": "3.8.3"
  }
 },
 "nbformat": 4,
 "nbformat_minor": 4
}
